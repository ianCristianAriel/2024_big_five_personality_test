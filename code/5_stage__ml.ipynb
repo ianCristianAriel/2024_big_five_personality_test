{
 "cells": [
  {
   "cell_type": "markdown",
   "metadata": {},
   "source": [
    "```python\n",
    "# BSD 2-Clause License\n",
    "# Copyright (c) 2024, Ian Cristian Ariel, Yané\n",
    "# All rights reserved.\n",
    "#\n",
    "# This file is part of a project licensed under the BSD 2-Clause License.\n",
    "# See the LICENSE file for more information.\n",
    "```"
   ]
  }
 ],
 "metadata": {
  "language_info": {
   "name": "python"
  }
 },
 "nbformat": 4,
 "nbformat_minor": 2
}
